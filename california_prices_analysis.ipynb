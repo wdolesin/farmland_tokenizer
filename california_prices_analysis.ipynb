{
 "cells": [
  {
   "cell_type": "markdown",
   "id": "0bc6848f",
   "metadata": {},
   "source": [
    "# Price predictions for farmland in California"
   ]
  },
  {
   "cell_type": "code",
   "execution_count": 47,
   "id": "e45329a3",
   "metadata": {},
   "outputs": [
    {
     "ename": "ModuleNotFoundError",
     "evalue": "No module named 'fbprophet'",
     "output_type": "error",
     "traceback": [
      "\u001b[0;31m---------------------------------------------------------------------------\u001b[0m",
      "\u001b[0;31mModuleNotFoundError\u001b[0m                       Traceback (most recent call last)",
      "\u001b[0;32m<ipython-input-47-476ce8069ef6>\u001b[0m in \u001b[0;36m<module>\u001b[0;34m\u001b[0m\n\u001b[1;32m      3\u001b[0m \u001b[0;32mfrom\u001b[0m \u001b[0mpathlib\u001b[0m \u001b[0;32mimport\u001b[0m \u001b[0mPath\u001b[0m\u001b[0;34m\u001b[0m\u001b[0;34m\u001b[0m\u001b[0m\n\u001b[1;32m      4\u001b[0m \u001b[0;32mimport\u001b[0m \u001b[0mdatetime\u001b[0m \u001b[0;32mas\u001b[0m \u001b[0mdt\u001b[0m\u001b[0;34m\u001b[0m\u001b[0;34m\u001b[0m\u001b[0m\n\u001b[0;32m----> 5\u001b[0;31m \u001b[0;32mfrom\u001b[0m \u001b[0mfbprophet\u001b[0m \u001b[0;32mimport\u001b[0m \u001b[0mProphet\u001b[0m\u001b[0;34m\u001b[0m\u001b[0;34m\u001b[0m\u001b[0m\n\u001b[0m\u001b[1;32m      6\u001b[0m \u001b[0;32mimport\u001b[0m \u001b[0mmatplotlib\u001b[0m\u001b[0;34m.\u001b[0m\u001b[0mpyplot\u001b[0m \u001b[0;32mas\u001b[0m \u001b[0mplt\u001b[0m\u001b[0;34m\u001b[0m\u001b[0;34m\u001b[0m\u001b[0m\n\u001b[1;32m      7\u001b[0m \u001b[0mget_ipython\u001b[0m\u001b[0;34m(\u001b[0m\u001b[0;34m)\u001b[0m\u001b[0;34m.\u001b[0m\u001b[0mrun_line_magic\u001b[0m\u001b[0;34m(\u001b[0m\u001b[0;34m'matplotlib'\u001b[0m\u001b[0;34m,\u001b[0m \u001b[0;34m'inline'\u001b[0m\u001b[0;34m)\u001b[0m\u001b[0;34m\u001b[0m\u001b[0;34m\u001b[0m\u001b[0m\n",
      "\u001b[0;31mModuleNotFoundError\u001b[0m: No module named 'fbprophet'"
     ]
    }
   ],
   "source": [
    "# Import the required libraries and dependencies\n",
    "import pandas as pd\n",
    "from pathlib import Path\n",
    "import datetime as dt\n",
    "from fbprophet import Prophet\n",
    "import matplotlib.pyplot as plt\n",
    "%matplotlib inline"
   ]
  },
  {
   "cell_type": "code",
   "execution_count": 48,
   "id": "5cfef659",
   "metadata": {},
   "outputs": [
    {
     "data": {
      "text/html": [
       "<div>\n",
       "<style scoped>\n",
       "    .dataframe tbody tr th:only-of-type {\n",
       "        vertical-align: middle;\n",
       "    }\n",
       "\n",
       "    .dataframe tbody tr th {\n",
       "        vertical-align: top;\n",
       "    }\n",
       "\n",
       "    .dataframe thead th {\n",
       "        text-align: right;\n",
       "    }\n",
       "</style>\n",
       "<table border=\"1\" class=\"dataframe\">\n",
       "  <thead>\n",
       "    <tr style=\"text-align: right;\">\n",
       "      <th></th>\n",
       "      <th>Unnamed: 0</th>\n",
       "      <th>Alabama</th>\n",
       "      <th>Alaska</th>\n",
       "      <th>Arizona</th>\n",
       "      <th>Arkansas</th>\n",
       "      <th>California</th>\n",
       "      <th>Colorado</th>\n",
       "      <th>Connecticut</th>\n",
       "      <th>Delaware</th>\n",
       "      <th>Florida</th>\n",
       "      <th>...</th>\n",
       "      <th>South Dakota</th>\n",
       "      <th>Tennessee</th>\n",
       "      <th>Texas</th>\n",
       "      <th>Utah</th>\n",
       "      <th>Vermont</th>\n",
       "      <th>Virginia</th>\n",
       "      <th>Washington</th>\n",
       "      <th>West Virginia</th>\n",
       "      <th>Wisconsin</th>\n",
       "      <th>Wyoming</th>\n",
       "    </tr>\n",
       "  </thead>\n",
       "  <tbody>\n",
       "    <tr>\n",
       "      <th>43</th>\n",
       "      <td>2017</td>\n",
       "      <td>3170</td>\n",
       "      <td>NaN</td>\n",
       "      <td>7720</td>\n",
       "      <td>2730</td>\n",
       "      <td>11630</td>\n",
       "      <td>2070</td>\n",
       "      <td>7630</td>\n",
       "      <td>7960</td>\n",
       "      <td>6940</td>\n",
       "      <td>...</td>\n",
       "      <td>3200</td>\n",
       "      <td>3730</td>\n",
       "      <td>1850</td>\n",
       "      <td>3690</td>\n",
       "      <td>7630</td>\n",
       "      <td>4730</td>\n",
       "      <td>2660</td>\n",
       "      <td>3250</td>\n",
       "      <td>4870</td>\n",
       "      <td>1460</td>\n",
       "    </tr>\n",
       "    <tr>\n",
       "      <th>44</th>\n",
       "      <td>2018</td>\n",
       "      <td>3300</td>\n",
       "      <td>NaN</td>\n",
       "      <td>7610</td>\n",
       "      <td>2780</td>\n",
       "      <td>12170</td>\n",
       "      <td>2100</td>\n",
       "      <td>7650</td>\n",
       "      <td>8120</td>\n",
       "      <td>7040</td>\n",
       "      <td>...</td>\n",
       "      <td>3120</td>\n",
       "      <td>3830</td>\n",
       "      <td>1890</td>\n",
       "      <td>3830</td>\n",
       "      <td>7650</td>\n",
       "      <td>4760</td>\n",
       "      <td>2630</td>\n",
       "      <td>3250</td>\n",
       "      <td>4740</td>\n",
       "      <td>1490</td>\n",
       "    </tr>\n",
       "    <tr>\n",
       "      <th>45</th>\n",
       "      <td>2019</td>\n",
       "      <td>3430</td>\n",
       "      <td>NaN</td>\n",
       "      <td>7600</td>\n",
       "      <td>2850</td>\n",
       "      <td>12830</td>\n",
       "      <td>2160</td>\n",
       "      <td>7900</td>\n",
       "      <td>8600</td>\n",
       "      <td>7190</td>\n",
       "      <td>...</td>\n",
       "      <td>3130</td>\n",
       "      <td>3910</td>\n",
       "      <td>1930</td>\n",
       "      <td>3970</td>\n",
       "      <td>7900</td>\n",
       "      <td>4720</td>\n",
       "      <td>2630</td>\n",
       "      <td>3280</td>\n",
       "      <td>4850</td>\n",
       "      <td>1520</td>\n",
       "    </tr>\n",
       "    <tr>\n",
       "      <th>46</th>\n",
       "      <td>2020</td>\n",
       "      <td>3500</td>\n",
       "      <td>NaN</td>\n",
       "      <td>7650</td>\n",
       "      <td>2880</td>\n",
       "      <td>12900</td>\n",
       "      <td>2200</td>\n",
       "      <td>7900</td>\n",
       "      <td>8600</td>\n",
       "      <td>7190</td>\n",
       "      <td>...</td>\n",
       "      <td>3030</td>\n",
       "      <td>3990</td>\n",
       "      <td>2030</td>\n",
       "      <td>4040</td>\n",
       "      <td>7900</td>\n",
       "      <td>4680</td>\n",
       "      <td>2610</td>\n",
       "      <td>3270</td>\n",
       "      <td>4770</td>\n",
       "      <td>1540</td>\n",
       "    </tr>\n",
       "    <tr>\n",
       "      <th>47</th>\n",
       "      <td>2021</td>\n",
       "      <td>3550</td>\n",
       "      <td>NaN</td>\n",
       "      <td>7700</td>\n",
       "      <td>2930</td>\n",
       "      <td>13860</td>\n",
       "      <td>2240</td>\n",
       "      <td>8770</td>\n",
       "      <td>8600</td>\n",
       "      <td>7300</td>\n",
       "      <td>...</td>\n",
       "      <td>3390</td>\n",
       "      <td>4130</td>\n",
       "      <td>2150</td>\n",
       "      <td>4190</td>\n",
       "      <td>8770</td>\n",
       "      <td>4790</td>\n",
       "      <td>2700</td>\n",
       "      <td>3330</td>\n",
       "      <td>5280</td>\n",
       "      <td>1600</td>\n",
       "    </tr>\n",
       "  </tbody>\n",
       "</table>\n",
       "<p>5 rows × 51 columns</p>\n",
       "</div>"
      ],
      "text/plain": [
       "    Unnamed: 0  Alabama  Alaska  Arizona  Arkansas  California  Colorado  \\\n",
       "43        2017     3170     NaN     7720      2730       11630      2070   \n",
       "44        2018     3300     NaN     7610      2780       12170      2100   \n",
       "45        2019     3430     NaN     7600      2850       12830      2160   \n",
       "46        2020     3500     NaN     7650      2880       12900      2200   \n",
       "47        2021     3550     NaN     7700      2930       13860      2240   \n",
       "\n",
       "    Connecticut  Delaware  Florida  ...  South Dakota  Tennessee  Texas  Utah  \\\n",
       "43         7630      7960     6940  ...          3200       3730   1850  3690   \n",
       "44         7650      8120     7040  ...          3120       3830   1890  3830   \n",
       "45         7900      8600     7190  ...          3130       3910   1930  3970   \n",
       "46         7900      8600     7190  ...          3030       3990   2030  4040   \n",
       "47         8770      8600     7300  ...          3390       4130   2150  4190   \n",
       "\n",
       "    Vermont  Virginia  Washington  West Virginia  Wisconsin  Wyoming  \n",
       "43     7630      4730        2660           3250       4870     1460  \n",
       "44     7650      4760        2630           3250       4740     1490  \n",
       "45     7900      4720        2630           3280       4850     1520  \n",
       "46     7900      4680        2610           3270       4770     1540  \n",
       "47     8770      4790        2700           3330       5280     1600  \n",
       "\n",
       "[5 rows x 51 columns]"
      ]
     },
     "execution_count": 48,
     "metadata": {},
     "output_type": "execute_result"
    }
   ],
   "source": [
    "# Loading value_per_acre.csv file from data folder\n",
    "value_per_acre_df= pd.read_csv(\"./data/value_per_acre.csv\")\n",
    "value_per_acre_df.tail()"
   ]
  },
  {
   "cell_type": "code",
   "execution_count": 49,
   "id": "23c13412",
   "metadata": {},
   "outputs": [],
   "source": [
    "# Renaming unnamed column to \"Year\"\n",
    "value_per_acre_df=value_per_acre_df.rename(columns={\"Unnamed: 0\": \"Year\"})"
   ]
  },
  {
   "cell_type": "code",
   "execution_count": 50,
   "id": "32b1c6e7",
   "metadata": {},
   "outputs": [
    {
     "data": {
      "text/html": [
       "<div>\n",
       "<style scoped>\n",
       "    .dataframe tbody tr th:only-of-type {\n",
       "        vertical-align: middle;\n",
       "    }\n",
       "\n",
       "    .dataframe tbody tr th {\n",
       "        vertical-align: top;\n",
       "    }\n",
       "\n",
       "    .dataframe thead th {\n",
       "        text-align: right;\n",
       "    }\n",
       "</style>\n",
       "<table border=\"1\" class=\"dataframe\">\n",
       "  <thead>\n",
       "    <tr style=\"text-align: right;\">\n",
       "      <th></th>\n",
       "      <th>Year</th>\n",
       "      <th>Alabama</th>\n",
       "      <th>Alaska</th>\n",
       "      <th>Arizona</th>\n",
       "      <th>Arkansas</th>\n",
       "      <th>California</th>\n",
       "      <th>Colorado</th>\n",
       "      <th>Connecticut</th>\n",
       "      <th>Delaware</th>\n",
       "      <th>Florida</th>\n",
       "      <th>...</th>\n",
       "      <th>South Dakota</th>\n",
       "      <th>Tennessee</th>\n",
       "      <th>Texas</th>\n",
       "      <th>Utah</th>\n",
       "      <th>Vermont</th>\n",
       "      <th>Virginia</th>\n",
       "      <th>Washington</th>\n",
       "      <th>West Virginia</th>\n",
       "      <th>Wisconsin</th>\n",
       "      <th>Wyoming</th>\n",
       "    </tr>\n",
       "  </thead>\n",
       "  <tbody>\n",
       "    <tr>\n",
       "      <th>0</th>\n",
       "      <td>1850</td>\n",
       "      <td>5</td>\n",
       "      <td>NaN</td>\n",
       "      <td>0</td>\n",
       "      <td>6</td>\n",
       "      <td>1</td>\n",
       "      <td>0</td>\n",
       "      <td>31</td>\n",
       "      <td>20</td>\n",
       "      <td>4</td>\n",
       "      <td>...</td>\n",
       "      <td>0</td>\n",
       "      <td>5</td>\n",
       "      <td>1</td>\n",
       "      <td>7</td>\n",
       "      <td>15</td>\n",
       "      <td>8</td>\n",
       "      <td>0</td>\n",
       "      <td>-</td>\n",
       "      <td>10</td>\n",
       "      <td>0</td>\n",
       "    </tr>\n",
       "    <tr>\n",
       "      <th>1</th>\n",
       "      <td>1860</td>\n",
       "      <td>9</td>\n",
       "      <td>NaN</td>\n",
       "      <td>0</td>\n",
       "      <td>10</td>\n",
       "      <td>6</td>\n",
       "      <td>0</td>\n",
       "      <td>36</td>\n",
       "      <td>31</td>\n",
       "      <td>6</td>\n",
       "      <td>...</td>\n",
       "      <td>0</td>\n",
       "      <td>13</td>\n",
       "      <td>3</td>\n",
       "      <td>15</td>\n",
       "      <td>22</td>\n",
       "      <td>12</td>\n",
       "      <td>6</td>\n",
       "      <td>-</td>\n",
       "      <td>17</td>\n",
       "      <td>0</td>\n",
       "    </tr>\n",
       "    <tr>\n",
       "      <th>2</th>\n",
       "      <td>1870</td>\n",
       "      <td>4</td>\n",
       "      <td>NaN</td>\n",
       "      <td>6</td>\n",
       "      <td>4</td>\n",
       "      <td>12</td>\n",
       "      <td>8</td>\n",
       "      <td>42</td>\n",
       "      <td>36</td>\n",
       "      <td>3</td>\n",
       "      <td>...</td>\n",
       "      <td>0</td>\n",
       "      <td>9</td>\n",
       "      <td>3</td>\n",
       "      <td>12</td>\n",
       "      <td>25</td>\n",
       "      <td>9</td>\n",
       "      <td>6</td>\n",
       "      <td>10</td>\n",
       "      <td>21</td>\n",
       "      <td>3</td>\n",
       "    </tr>\n",
       "    <tr>\n",
       "      <th>3</th>\n",
       "      <td>1880</td>\n",
       "      <td>4</td>\n",
       "      <td>NaN</td>\n",
       "      <td>8</td>\n",
       "      <td>6</td>\n",
       "      <td>16</td>\n",
       "      <td>22</td>\n",
       "      <td>49</td>\n",
       "      <td>34</td>\n",
       "      <td>6</td>\n",
       "      <td>...</td>\n",
       "      <td>5</td>\n",
       "      <td>10</td>\n",
       "      <td>5</td>\n",
       "      <td>21</td>\n",
       "      <td>22</td>\n",
       "      <td>11</td>\n",
       "      <td>10</td>\n",
       "      <td>13</td>\n",
       "      <td>23</td>\n",
       "      <td>7</td>\n",
       "    </tr>\n",
       "    <tr>\n",
       "      <th>4</th>\n",
       "      <td>1890</td>\n",
       "      <td>6</td>\n",
       "      <td>NaN</td>\n",
       "      <td>6</td>\n",
       "      <td>8</td>\n",
       "      <td>33</td>\n",
       "      <td>18</td>\n",
       "      <td>42</td>\n",
       "      <td>38</td>\n",
       "      <td>20</td>\n",
       "      <td>...</td>\n",
       "      <td>9</td>\n",
       "      <td>12</td>\n",
       "      <td>8</td>\n",
       "      <td>21</td>\n",
       "      <td>18</td>\n",
       "      <td>13</td>\n",
       "      <td>20</td>\n",
       "      <td>15</td>\n",
       "      <td>28</td>\n",
       "      <td>8</td>\n",
       "    </tr>\n",
       "  </tbody>\n",
       "</table>\n",
       "<p>5 rows × 51 columns</p>\n",
       "</div>"
      ],
      "text/plain": [
       "   Year  Alabama  Alaska  Arizona  Arkansas  California  Colorado  \\\n",
       "0  1850        5     NaN        0         6           1         0   \n",
       "1  1860        9     NaN        0        10           6         0   \n",
       "2  1870        4     NaN        6         4          12         8   \n",
       "3  1880        4     NaN        8         6          16        22   \n",
       "4  1890        6     NaN        6         8          33        18   \n",
       "\n",
       "   Connecticut  Delaware  Florida  ...  South Dakota  Tennessee  Texas  Utah  \\\n",
       "0           31        20        4  ...             0          5      1     7   \n",
       "1           36        31        6  ...             0         13      3    15   \n",
       "2           42        36        3  ...             0          9      3    12   \n",
       "3           49        34        6  ...             5         10      5    21   \n",
       "4           42        38       20  ...             9         12      8    21   \n",
       "\n",
       "   Vermont  Virginia  Washington  West Virginia  Wisconsin  Wyoming  \n",
       "0       15         8           0              -         10        0  \n",
       "1       22        12           6              -         17        0  \n",
       "2       25         9           6             10         21        3  \n",
       "3       22        11          10             13         23        7  \n",
       "4       18        13          20             15         28        8  \n",
       "\n",
       "[5 rows x 51 columns]"
      ]
     },
     "execution_count": 50,
     "metadata": {},
     "output_type": "execute_result"
    }
   ],
   "source": [
    "# Displaying the dataframe\n",
    "value_per_acre_df.head()"
   ]
  },
  {
   "cell_type": "code",
   "execution_count": 51,
   "id": "e6f0ee59",
   "metadata": {},
   "outputs": [
    {
     "data": {
      "text/html": [
       "<div>\n",
       "<style scoped>\n",
       "    .dataframe tbody tr th:only-of-type {\n",
       "        vertical-align: middle;\n",
       "    }\n",
       "\n",
       "    .dataframe tbody tr th {\n",
       "        vertical-align: top;\n",
       "    }\n",
       "\n",
       "    .dataframe thead th {\n",
       "        text-align: right;\n",
       "    }\n",
       "</style>\n",
       "<table border=\"1\" class=\"dataframe\">\n",
       "  <thead>\n",
       "    <tr style=\"text-align: right;\">\n",
       "      <th></th>\n",
       "      <th>Year</th>\n",
       "      <th>California</th>\n",
       "    </tr>\n",
       "  </thead>\n",
       "  <tbody>\n",
       "    <tr>\n",
       "      <th>26</th>\n",
       "      <td>2000</td>\n",
       "      <td>5960</td>\n",
       "    </tr>\n",
       "    <tr>\n",
       "      <th>27</th>\n",
       "      <td>2001</td>\n",
       "      <td>5870</td>\n",
       "    </tr>\n",
       "    <tr>\n",
       "      <th>28</th>\n",
       "      <td>2002</td>\n",
       "      <td>5730</td>\n",
       "    </tr>\n",
       "    <tr>\n",
       "      <th>29</th>\n",
       "      <td>2003</td>\n",
       "      <td>5920</td>\n",
       "    </tr>\n",
       "    <tr>\n",
       "      <th>30</th>\n",
       "      <td>2004</td>\n",
       "      <td>6020</td>\n",
       "    </tr>\n",
       "  </tbody>\n",
       "</table>\n",
       "</div>"
      ],
      "text/plain": [
       "    Year  California\n",
       "26  2000        5960\n",
       "27  2001        5870\n",
       "28  2002        5730\n",
       "29  2003        5920\n",
       "30  2004        6020"
      ]
     },
     "execution_count": 51,
     "metadata": {},
     "output_type": "execute_result"
    }
   ],
   "source": [
    "# Selecting the historcial prices of the farmland in California over the last 20 years\n",
    "california_df= value_per_acre_df.loc[26:,[\"Year\", \"California\"]]\n",
    "california_df.head()"
   ]
  },
  {
   "cell_type": "code",
   "execution_count": 52,
   "id": "da46539c",
   "metadata": {},
   "outputs": [
    {
     "data": {
      "text/html": [
       "<div>\n",
       "<style scoped>\n",
       "    .dataframe tbody tr th:only-of-type {\n",
       "        vertical-align: middle;\n",
       "    }\n",
       "\n",
       "    .dataframe tbody tr th {\n",
       "        vertical-align: top;\n",
       "    }\n",
       "\n",
       "    .dataframe thead th {\n",
       "        text-align: right;\n",
       "    }\n",
       "</style>\n",
       "<table border=\"1\" class=\"dataframe\">\n",
       "  <thead>\n",
       "    <tr style=\"text-align: right;\">\n",
       "      <th></th>\n",
       "      <th>California</th>\n",
       "    </tr>\n",
       "    <tr>\n",
       "      <th>Year</th>\n",
       "      <th></th>\n",
       "    </tr>\n",
       "  </thead>\n",
       "  <tbody>\n",
       "    <tr>\n",
       "      <th>2000</th>\n",
       "      <td>5960</td>\n",
       "    </tr>\n",
       "    <tr>\n",
       "      <th>2001</th>\n",
       "      <td>5870</td>\n",
       "    </tr>\n",
       "    <tr>\n",
       "      <th>2002</th>\n",
       "      <td>5730</td>\n",
       "    </tr>\n",
       "    <tr>\n",
       "      <th>2003</th>\n",
       "      <td>5920</td>\n",
       "    </tr>\n",
       "    <tr>\n",
       "      <th>2004</th>\n",
       "      <td>6020</td>\n",
       "    </tr>\n",
       "  </tbody>\n",
       "</table>\n",
       "</div>"
      ],
      "text/plain": [
       "      California\n",
       "Year            \n",
       "2000        5960\n",
       "2001        5870\n",
       "2002        5730\n",
       "2003        5920\n",
       "2004        6020"
      ]
     },
     "execution_count": 52,
     "metadata": {},
     "output_type": "execute_result"
    }
   ],
   "source": [
    "# Setting index to \"Year\"\n",
    "california_df=california_df.set_index(\"Year\")\n",
    "california_df.head()"
   ]
  },
  {
   "cell_type": "code",
   "execution_count": 53,
   "id": "4acbe94d",
   "metadata": {},
   "outputs": [
    {
     "data": {
      "text/html": [
       "<div>\n",
       "<style scoped>\n",
       "    .dataframe tbody tr th:only-of-type {\n",
       "        vertical-align: middle;\n",
       "    }\n",
       "\n",
       "    .dataframe tbody tr th {\n",
       "        vertical-align: top;\n",
       "    }\n",
       "\n",
       "    .dataframe thead th {\n",
       "        text-align: right;\n",
       "    }\n",
       "</style>\n",
       "<table border=\"1\" class=\"dataframe\">\n",
       "  <thead>\n",
       "    <tr style=\"text-align: right;\">\n",
       "      <th></th>\n",
       "      <th>California</th>\n",
       "    </tr>\n",
       "    <tr>\n",
       "      <th>Year</th>\n",
       "      <th></th>\n",
       "    </tr>\n",
       "  </thead>\n",
       "  <tbody>\n",
       "    <tr>\n",
       "      <th>2001</th>\n",
       "      <td>-0.015101</td>\n",
       "    </tr>\n",
       "    <tr>\n",
       "      <th>2002</th>\n",
       "      <td>-0.023850</td>\n",
       "    </tr>\n",
       "    <tr>\n",
       "      <th>2003</th>\n",
       "      <td>0.033159</td>\n",
       "    </tr>\n",
       "    <tr>\n",
       "      <th>2004</th>\n",
       "      <td>0.016892</td>\n",
       "    </tr>\n",
       "    <tr>\n",
       "      <th>2005</th>\n",
       "      <td>0.367110</td>\n",
       "    </tr>\n",
       "  </tbody>\n",
       "</table>\n",
       "</div>"
      ],
      "text/plain": [
       "      California\n",
       "Year            \n",
       "2001   -0.015101\n",
       "2002   -0.023850\n",
       "2003    0.033159\n",
       "2004    0.016892\n",
       "2005    0.367110"
      ]
     },
     "execution_count": 53,
     "metadata": {},
     "output_type": "execute_result"
    }
   ],
   "source": [
    "# Calculating annual returns of the farmland in California over the last 20 years\n",
    "annual_returns_california= california_df.pct_change().dropna()\n",
    "annual_returns_california.head()"
   ]
  },
  {
   "cell_type": "code",
   "execution_count": 54,
   "id": "f9b3fee7",
   "metadata": {},
   "outputs": [
    {
     "data": {
      "text/plain": [
       "<matplotlib.axes._subplots.AxesSubplot at 0x7fd34ad6b390>"
      ]
     },
     "execution_count": 54,
     "metadata": {},
     "output_type": "execute_result"
    },
    {
     "data": {
      "image/png": "[encoded data removed]",
      "text/plain": [
       "<Figure size 1080x504 with 1 Axes>"
      ]
     },
     "metadata": {
      "needs_background": "light"
     },
     "output_type": "display_data"
    }
   ],
   "source": [
    "# Visualising distribution of annual percent change in prices of the farmland prices in California using histogram\n",
    "annual_returns_california.plot(kind= \"hist\", \n",
    "                               title= \"Histogram representing the distribution of annual percent change in the price of an acre of CA farmland over the last 20 years\",\n",
    "                               figsize=(15,7))"
   ]
  },
  {
   "cell_type": "code",
   "execution_count": 55,
   "id": "af091cb7",
   "metadata": {},
   "outputs": [
    {
     "data": {
      "text/plain": [
       "<matplotlib.axes._subplots.AxesSubplot at 0x7fd345aa2390>"
      ]
     },
     "execution_count": 55,
     "metadata": {},
     "output_type": "execute_result"
    },
    {
     "data": {
      "image/png": "[encoded data removed]",
      "text/plain": [
       "<Figure size 1080x504 with 1 Axes>"
      ]
     },
     "metadata": {
      "needs_background": "light"
     },
     "output_type": "display_data"
    }
   ],
   "source": [
    "# Density plot\n",
    "annual_returns_california.plot.density( figsize= (15,7),\n",
    "                                       title= \"Density plot representing the distribution of annual percent change in the price of an acre of farmland in CA\")"
   ]
  },
  {
   "cell_type": "code",
   "execution_count": 56,
   "id": "18d40f78",
   "metadata": {},
   "outputs": [],
   "source": [
    "# Calculating cumulative returns of the farmland in CA\n",
    "cumulative_returns= (1 + annual_returns_california).cumprod()"
   ]
  },
  {
   "cell_type": "code",
   "execution_count": 57,
   "id": "0fa4f737",
   "metadata": {},
   "outputs": [
    {
     "data": {
      "text/plain": [
       "<matplotlib.axes._subplots.AxesSubplot at 0x7fd345b025d0>"
      ]
     },
     "execution_count": 57,
     "metadata": {},
     "output_type": "execute_result"
    },
    {
     "data": {
      "image/png": "[encoded data removed]",
      "text/plain": [
       "<Figure size 1080x504 with 1 Axes>"
      ]
     },
     "metadata": {
      "needs_background": "light"
     },
     "output_type": "display_data"
    }
   ],
   "source": [
    "# Visualising cumulative returns\n",
    "cumulative_returns.plot(figsize=(15,7), title= \"Cumulative returns derived from the price of an acre of land in California over the last 20 years \")"
   ]
  },
  {
   "cell_type": "code",
   "execution_count": 58,
   "id": "801d718a",
   "metadata": {},
   "outputs": [
    {
     "data": {
      "text/html": [
       "<div>\n",
       "<style scoped>\n",
       "    .dataframe tbody tr th:only-of-type {\n",
       "        vertical-align: middle;\n",
       "    }\n",
       "\n",
       "    .dataframe tbody tr th {\n",
       "        vertical-align: top;\n",
       "    }\n",
       "\n",
       "    .dataframe thead th {\n",
       "        text-align: right;\n",
       "    }\n",
       "</style>\n",
       "<table border=\"1\" class=\"dataframe\">\n",
       "  <thead>\n",
       "    <tr style=\"text-align: right;\">\n",
       "      <th></th>\n",
       "      <th>California</th>\n",
       "    </tr>\n",
       "  </thead>\n",
       "  <tbody>\n",
       "    <tr>\n",
       "      <th>count</th>\n",
       "      <td>21.000000</td>\n",
       "    </tr>\n",
       "    <tr>\n",
       "      <th>mean</th>\n",
       "      <td>0.043814</td>\n",
       "    </tr>\n",
       "    <tr>\n",
       "      <th>std</th>\n",
       "      <td>0.083658</td>\n",
       "    </tr>\n",
       "    <tr>\n",
       "      <th>min</th>\n",
       "      <td>-0.040486</td>\n",
       "    </tr>\n",
       "    <tr>\n",
       "      <th>25%</th>\n",
       "      <td>0.010953</td>\n",
       "    </tr>\n",
       "    <tr>\n",
       "      <th>50%</th>\n",
       "      <td>0.028398</td>\n",
       "    </tr>\n",
       "    <tr>\n",
       "      <th>75%</th>\n",
       "      <td>0.054232</td>\n",
       "    </tr>\n",
       "    <tr>\n",
       "      <th>max</th>\n",
       "      <td>0.367110</td>\n",
       "    </tr>\n",
       "  </tbody>\n",
       "</table>\n",
       "</div>"
      ],
      "text/plain": [
       "       California\n",
       "count   21.000000\n",
       "mean     0.043814\n",
       "std      0.083658\n",
       "min     -0.040486\n",
       "25%      0.010953\n",
       "50%      0.028398\n",
       "75%      0.054232\n",
       "max      0.367110"
      ]
     },
     "execution_count": 58,
     "metadata": {},
     "output_type": "execute_result"
    }
   ],
   "source": [
    "# Generating summary statistics\n",
    "summary_statistics_california= annual_returns_california.describe()\n",
    "summary_statistics_california"
   ]
  },
  {
   "cell_type": "code",
   "execution_count": 60,
   "id": "b09b7b02",
   "metadata": {},
   "outputs": [
    {
     "data": {
      "text/plain": [
       "California    2.234641\n",
       "dtype: float64"
      ]
     },
     "metadata": {},
     "output_type": "display_data"
    },
    {
     "data": {
      "text/plain": [
       "California    6.528179\n",
       "dtype: float64"
      ]
     },
     "metadata": {},
     "output_type": "display_data"
    }
   ],
   "source": [
    "lower_bound= (summary_statistics_california.iloc[1] - (1.96 * summary_statistics_california.iloc[4])) *100\n",
    "upper_bound= (summary_statistics_california.iloc[1] + (1.96 * summary_statistics_california.iloc[4])) *100\n",
    "display(lower_bound)\n",
    "display(upper_bound)"
   ]
  },
  {
   "cell_type": "markdown",
   "id": "144bb812",
   "metadata": {},
   "source": [
    "### From the analysis of the CA farmland historical annual returns data over the last 20years, with a 95% confidence we can say that we can expect our yearly return value to fall between: 2.23 % and 6.52 %\n"
   ]
  },
  {
   "cell_type": "code",
   "execution_count": 61,
   "id": "8c8e0c3a",
   "metadata": {},
   "outputs": [],
   "source": [
    "# Reseting index for the Prophet Analysis\n",
    "california_df=california_df.reset_index()"
   ]
  },
  {
   "cell_type": "code",
   "execution_count": 62,
   "id": "31d01d31",
   "metadata": {},
   "outputs": [
    {
     "data": {
      "text/html": [
       "<div>\n",
       "<style scoped>\n",
       "    .dataframe tbody tr th:only-of-type {\n",
       "        vertical-align: middle;\n",
       "    }\n",
       "\n",
       "    .dataframe tbody tr th {\n",
       "        vertical-align: top;\n",
       "    }\n",
       "\n",
       "    .dataframe thead th {\n",
       "        text-align: right;\n",
       "    }\n",
       "</style>\n",
       "<table border=\"1\" class=\"dataframe\">\n",
       "  <thead>\n",
       "    <tr style=\"text-align: right;\">\n",
       "      <th></th>\n",
       "      <th>ds</th>\n",
       "      <th>y</th>\n",
       "    </tr>\n",
       "  </thead>\n",
       "  <tbody>\n",
       "    <tr>\n",
       "      <th>0</th>\n",
       "      <td>2000</td>\n",
       "      <td>5960</td>\n",
       "    </tr>\n",
       "    <tr>\n",
       "      <th>1</th>\n",
       "      <td>2001</td>\n",
       "      <td>5870</td>\n",
       "    </tr>\n",
       "    <tr>\n",
       "      <th>2</th>\n",
       "      <td>2002</td>\n",
       "      <td>5730</td>\n",
       "    </tr>\n",
       "    <tr>\n",
       "      <th>3</th>\n",
       "      <td>2003</td>\n",
       "      <td>5920</td>\n",
       "    </tr>\n",
       "    <tr>\n",
       "      <th>4</th>\n",
       "      <td>2004</td>\n",
       "      <td>6020</td>\n",
       "    </tr>\n",
       "  </tbody>\n",
       "</table>\n",
       "</div>"
      ],
      "text/plain": [
       "     ds     y\n",
       "0  2000  5960\n",
       "1  2001  5870\n",
       "2  2002  5730\n",
       "3  2003  5920\n",
       "4  2004  6020"
      ]
     },
     "execution_count": 62,
     "metadata": {},
     "output_type": "execute_result"
    }
   ],
   "source": [
    "# Rename the columns to the Prophet model syntax \n",
    "california_df = california_df.rename(columns={\"Year\":\"ds\", \"California\":\"y\"})\n",
    "\n",
    "# Review the DataFrame\n",
    "california_df.head()"
   ]
  },
  {
   "cell_type": "code",
   "execution_count": 63,
   "id": "4f680718",
   "metadata": {},
   "outputs": [
    {
     "ename": "NameError",
     "evalue": "name 'Prophet' is not defined",
     "output_type": "error",
     "traceback": [
      "\u001b[0;31m---------------------------------------------------------------------------\u001b[0m",
      "\u001b[0;31mNameError\u001b[0m                                 Traceback (most recent call last)",
      "\u001b[0;32m<ipython-input-63-6bf540de1a64>\u001b[0m in \u001b[0;36m<module>\u001b[0;34m\u001b[0m\n\u001b[1;32m      1\u001b[0m \u001b[0;31m# Creating a Prophet model for the price prediction of the farmland in California\u001b[0m\u001b[0;34m\u001b[0m\u001b[0;34m\u001b[0m\u001b[0;34m\u001b[0m\u001b[0m\n\u001b[0;32m----> 2\u001b[0;31m \u001b[0mmodel\u001b[0m \u001b[0;34m=\u001b[0m \u001b[0mProphet\u001b[0m\u001b[0;34m(\u001b[0m\u001b[0;34m)\u001b[0m\u001b[0;34m\u001b[0m\u001b[0;34m\u001b[0m\u001b[0m\n\u001b[0m",
      "\u001b[0;31mNameError\u001b[0m: name 'Prophet' is not defined"
     ]
    }
   ],
   "source": [
    "# Creating a Prophet model for the price prediction of the farmland in California\n",
    "model = Prophet()"
   ]
  },
  {
   "cell_type": "code",
   "execution_count": 64,
   "id": "57eaf0d1",
   "metadata": {},
   "outputs": [
    {
     "ename": "NameError",
     "evalue": "name 'model' is not defined",
     "output_type": "error",
     "traceback": [
      "\u001b[0;31m---------------------------------------------------------------------------\u001b[0m",
      "\u001b[0;31mNameError\u001b[0m                                 Traceback (most recent call last)",
      "\u001b[0;32m<ipython-input-64-e699ba02b444>\u001b[0m in \u001b[0;36m<module>\u001b[0;34m\u001b[0m\n\u001b[1;32m      1\u001b[0m \u001b[0;31m# Fitting the Prophet model\u001b[0m\u001b[0;34m\u001b[0m\u001b[0;34m\u001b[0m\u001b[0;34m\u001b[0m\u001b[0m\n\u001b[0;32m----> 2\u001b[0;31m \u001b[0mmodel\u001b[0m\u001b[0;34m.\u001b[0m\u001b[0mfit\u001b[0m\u001b[0;34m(\u001b[0m\u001b[0mcalifornia_df\u001b[0m\u001b[0;34m)\u001b[0m\u001b[0;34m\u001b[0m\u001b[0;34m\u001b[0m\u001b[0m\n\u001b[0m",
      "\u001b[0;31mNameError\u001b[0m: name 'model' is not defined"
     ]
    }
   ],
   "source": [
    "# Fitting the Prophet model\n",
    "model.fit(california_df)"
   ]
  },
  {
   "cell_type": "code",
   "execution_count": 65,
   "id": "dd72caed",
   "metadata": {},
   "outputs": [
    {
     "ename": "NameError",
     "evalue": "name 'model' is not defined",
     "output_type": "error",
     "traceback": [
      "\u001b[0;31m---------------------------------------------------------------------------\u001b[0m",
      "\u001b[0;31mNameError\u001b[0m                                 Traceback (most recent call last)",
      "\u001b[0;32m<ipython-input-65-cbaabd393471>\u001b[0m in \u001b[0;36m<module>\u001b[0;34m\u001b[0m\n\u001b[1;32m      1\u001b[0m \u001b[0;31m# Forecast 50 years of farmland prices in California\u001b[0m\u001b[0;34m\u001b[0m\u001b[0;34m\u001b[0m\u001b[0;34m\u001b[0m\u001b[0m\n\u001b[0;32m----> 2\u001b[0;31m \u001b[0mfuture_farmland_prices_california\u001b[0m \u001b[0;34m=\u001b[0m \u001b[0mmodel\u001b[0m\u001b[0;34m.\u001b[0m\u001b[0mmake_future_dataframe\u001b[0m\u001b[0;34m(\u001b[0m\u001b[0mperiods\u001b[0m\u001b[0;34m=\u001b[0m\u001b[0;36m100\u001b[0m\u001b[0;34m,\u001b[0m \u001b[0mfreq\u001b[0m\u001b[0;34m=\u001b[0m\u001b[0;34m\"Y\"\u001b[0m\u001b[0;34m)\u001b[0m\u001b[0;34m\u001b[0m\u001b[0;34m\u001b[0m\u001b[0m\n\u001b[0m\u001b[1;32m      3\u001b[0m \u001b[0;34m\u001b[0m\u001b[0m\n\u001b[1;32m      4\u001b[0m \u001b[0;31m# Display the last five rows of the DataFrame\u001b[0m\u001b[0;34m\u001b[0m\u001b[0;34m\u001b[0m\u001b[0;34m\u001b[0m\u001b[0m\n\u001b[1;32m      5\u001b[0m \u001b[0mfuture_farmland_prices_california\u001b[0m\u001b[0;34m.\u001b[0m\u001b[0mtail\u001b[0m\u001b[0;34m(\u001b[0m\u001b[0;34m)\u001b[0m\u001b[0;34m\u001b[0m\u001b[0;34m\u001b[0m\u001b[0m\n",
      "\u001b[0;31mNameError\u001b[0m: name 'model' is not defined"
     ]
    }
   ],
   "source": [
    "# Forecast 10 years of farmland prices in California\n",
    "future_farmland_prices_california = model.make_future_dataframe(periods=62, freq=\"Y\")\n",
    "\n",
    "# Display the last five rows of the DataFrame\n",
    "future_farmland_prices_california.tail()"
   ]
  },
  {
   "cell_type": "code",
   "execution_count": null,
   "id": "db7513bd",
   "metadata": {},
   "outputs": [],
   "source": [
    "# Making predictions using the future_farmland_prices DataFrame\n",
    "forecast_farmland_prices_california = model.predict(future_farmland_prices_california)\n",
    "\n",
    "# Display the first five rows of the forecast_canada DataFrame\n",
    "forecast_farmland_prices_california.head()"
   ]
  },
  {
   "cell_type": "code",
   "execution_count": null,
   "id": "12d279b4",
   "metadata": {},
   "outputs": [],
   "source": [
    "# Ploting the Prophet predictions  \n",
    "model.plot(forecast_farmland_prices_california)"
   ]
  },
  {
   "cell_type": "code",
   "execution_count": null,
   "id": "488b66be",
   "metadata": {},
   "outputs": [],
   "source": [
    "# Setting the index in the forecast_farmland_prices_california DataFrame to the ds datetime column \n",
    "forecast_farmland_prices_california = forecast_farmland_prices_california.set_index('ds')\n",
    "\n",
    "# Display the forecast_canada DataFrame\n",
    "forecast_farmland_prices_california.head()\n",
    "\n"
   ]
  },
  {
   "cell_type": "code",
   "execution_count": null,
   "id": "b689cae3",
   "metadata": {},
   "outputs": [],
   "source": [
    "# Plot predictions for our forecast_famrland_prices_california DataFrame for the 10 year period \n",
    "forecast_farmland_prices_california[['yhat', 'yhat_lower', 'yhat_upper']].iloc[-50:,:].plot(title= \"Forcast of the farmland prices in California (in USD)\")\n"
   ]
  },
  {
   "cell_type": "code",
   "execution_count": null,
   "id": "99c0540b",
   "metadata": {},
   "outputs": [],
   "source": [
    "# Reseting the index in the forecast_farmland_prices_california DataFrame\n",
    "forecast_farmland_prices_california = forecast_farmland_prices_california.reset_index()\n",
    "\n",
    "# Using the plot_components function to visualize the forecast results \n",
    "\n",
    "fig = model.plot_components(forecast_farmland_prices_california)"
   ]
  }
 ],
 "metadata": {
  "kernelspec": {
   "display_name": "Python (dev)",
   "language": "python",
   "name": "dev"
  },
  "language_info": {
   "codemirror_mode": {
    "name": "ipython",
    "version": 3
   },
   "file_extension": ".py",
   "mimetype": "text/x-python",
   "name": "python",
   "nbconvert_exporter": "python",
   "pygments_lexer": "ipython3",
   "version": "3.7.10"
  }
 },
 "nbformat": 4,
 "nbformat_minor": 5
}
